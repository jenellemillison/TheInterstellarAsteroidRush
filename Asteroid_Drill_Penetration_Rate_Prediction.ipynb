{
 "cells": [
  {
   "cell_type": "code",
   "execution_count": 56,
   "metadata": {},
   "outputs": [
    {
     "ename": "ModuleNotFoundError",
     "evalue": "No module named 'seaborn'",
     "output_type": "error",
     "traceback": [
      "\u001b[0;31m---------------------------------------------------------------------------\u001b[0m",
      "\u001b[0;31mModuleNotFoundError\u001b[0m                       Traceback (most recent call last)",
      "\u001b[0;32m<ipython-input-56-043ab444598a>\u001b[0m in \u001b[0;36m<module>\u001b[0;34m\u001b[0m\n\u001b[1;32m      9\u001b[0m \u001b[0;32mfrom\u001b[0m \u001b[0msklearn\u001b[0m\u001b[0;34m.\u001b[0m\u001b[0mmodel_selection\u001b[0m \u001b[0;32mimport\u001b[0m \u001b[0mtrain_test_split\u001b[0m\u001b[0;34m\u001b[0m\u001b[0;34m\u001b[0m\u001b[0m\n\u001b[1;32m     10\u001b[0m \u001b[0;32mfrom\u001b[0m \u001b[0msklearn\u001b[0m\u001b[0;34m.\u001b[0m\u001b[0mensemble\u001b[0m \u001b[0;32mimport\u001b[0m \u001b[0mRandomForestRegressor\u001b[0m\u001b[0;34m\u001b[0m\u001b[0;34m\u001b[0m\u001b[0m\n\u001b[0;32m---> 11\u001b[0;31m \u001b[0;32mimport\u001b[0m \u001b[0mseaborn\u001b[0m \u001b[0;32mas\u001b[0m \u001b[0msns\u001b[0m\u001b[0;34m\u001b[0m\u001b[0;34m\u001b[0m\u001b[0m\n\u001b[0m",
      "\u001b[0;31mModuleNotFoundError\u001b[0m: No module named 'seaborn'"
     ]
    }
   ],
   "source": [
    "import pandas as pd\n",
    "import numpy as np\n",
    "import matplotlib.pyplot as plt\n",
    "import os\n",
    "import re\n",
    "import math\n",
    "import numpy as np\n",
    "from scipy import stats\n",
    "from sklearn.model_selection import train_test_split\n",
    "from sklearn.ensemble import RandomForestRegressor"
   ]
  },
  {
   "cell_type": "code",
   "execution_count": 15,
   "metadata": {},
   "outputs": [],
   "source": [
    "DIR_NAME = './Asteroids'"
   ]
  },
  {
   "cell_type": "code",
   "execution_count": 16,
   "metadata": {},
   "outputs": [
    {
     "name": "stdout",
     "output_type": "stream",
     "text": [
      "19\n",
      "8\n",
      "12\n",
      "18\n",
      "16\n",
      "14\n",
      "15\n",
      "4\n",
      "7\n",
      "17\n",
      "10\n",
      "1\n",
      "5\n",
      "2\n",
      "11\n",
      "3\n",
      "13\n",
      "9\n",
      "20\n",
      "6\n",
      "Loaded a total of 20 astroids\n"
     ]
    }
   ],
   "source": [
    "all_astroid_data = pd.DataFrame()\n",
    "astroid_dict = {}\n",
    "for file in os.listdir(DIR_NAME):\n",
    "    f = os.path.join(DIR_NAME, file)\n",
    "    _, astroid_num_and_file = re.split(' ', file)\n",
    "    astroid_num = int(re.findall(r'\\d+', f)[0])\n",
    "    print(astroid_num)\n",
    "    astroid_dict[astroid_num] = pd.read_csv(f)\n",
    "    astroid_dict[astroid_num]['ASTROID_NUM'] = astroid_num\n",
    "    all_astroid_data = all_astroid_data.append(astroid_dict[astroid_num])\n",
    "print('Loaded a total of', len(astroid_dict.keys()), 'astroids')"
   ]
  },
  {
   "cell_type": "code",
   "execution_count": 17,
   "metadata": {},
   "outputs": [
    {
     "name": "stdout",
     "output_type": "stream",
     "text": [
      "       BIT_DEPTH  RATE_OF_PENETRATION  HOOK_LOAD  DIFFERENTIAL_PRESSURE  \\\n",
      "0         144.52                131.7       65.6                   65.0   \n",
      "1         145.05                178.4       65.5                   47.0   \n",
      "2         147.13                179.7       55.2                  403.0   \n",
      "3         148.55                200.2       57.7                  282.0   \n",
      "4         151.17                154.1       60.5                  372.0   \n",
      "...          ...                  ...        ...                    ...   \n",
      "13768   15319.01                 33.4      203.2                  526.0   \n",
      "13769   15320.56                149.1      198.5                  278.0   \n",
      "13770   15322.01                109.5      184.5                  555.0   \n",
      "13771   15323.00                 23.1      184.3                  819.0   \n",
      "13772   15324.06                 20.5      194.6                   -7.0   \n",
      "\n",
      "       WEIGHT_ON_BIT  DRILL_BIT_ID   DRILL_BIT_NAME  ASTROID_NUM  \n",
      "0              -0.69             1  ChallengDriller           19  \n",
      "1              -0.62             1  ChallengDriller           19  \n",
      "2              11.40             1  ChallengDriller           19  \n",
      "3               7.41             1  ChallengDriller           19  \n",
      "4               9.68             1  ChallengDriller           19  \n",
      "...              ...           ...              ...          ...  \n",
      "13768          34.97             5   Buzz Drilldrin            6  \n",
      "13769          20.09             5   Buzz Drilldrin            6  \n",
      "13770          35.46             5   Buzz Drilldrin            6  \n",
      "13771          35.64             5   Buzz Drilldrin            6  \n",
      "13772           3.99             5   Buzz Drilldrin            6  \n",
      "\n",
      "[302582 rows x 8 columns]\n"
     ]
    }
   ],
   "source": [
    "print(all_astroid_data)"
   ]
  },
  {
   "cell_type": "markdown",
   "metadata": {},
   "source": [
    "# Correlation Between Variables"
   ]
  },
  {
   "cell_type": "code",
   "execution_count": 54,
   "metadata": {},
   "outputs": [
    {
     "data": {
      "text/html": [
       "<div>\n",
       "<style scoped>\n",
       "    .dataframe tbody tr th:only-of-type {\n",
       "        vertical-align: middle;\n",
       "    }\n",
       "\n",
       "    .dataframe tbody tr th {\n",
       "        vertical-align: top;\n",
       "    }\n",
       "\n",
       "    .dataframe thead th {\n",
       "        text-align: right;\n",
       "    }\n",
       "</style>\n",
       "<table border=\"1\" class=\"dataframe\">\n",
       "  <thead>\n",
       "    <tr style=\"text-align: right;\">\n",
       "      <th></th>\n",
       "      <th>BIT_DEPTH</th>\n",
       "      <th>RATE_OF_PENETRATION</th>\n",
       "      <th>HOOK_LOAD</th>\n",
       "      <th>DIFFERENTIAL_PRESSURE</th>\n",
       "      <th>WEIGHT_ON_BIT</th>\n",
       "      <th>DRILL_BIT_ID</th>\n",
       "      <th>ASTROID_NUM</th>\n",
       "    </tr>\n",
       "  </thead>\n",
       "  <tbody>\n",
       "    <tr>\n",
       "      <th>BIT_DEPTH</th>\n",
       "      <td>1.000000</td>\n",
       "      <td>-0.599809</td>\n",
       "      <td>0.632564</td>\n",
       "      <td>0.098948</td>\n",
       "      <td>-0.013339</td>\n",
       "      <td>0.702139</td>\n",
       "      <td>0.098371</td>\n",
       "    </tr>\n",
       "    <tr>\n",
       "      <th>RATE_OF_PENETRATION</th>\n",
       "      <td>-0.599809</td>\n",
       "      <td>1.000000</td>\n",
       "      <td>-0.560171</td>\n",
       "      <td>0.198563</td>\n",
       "      <td>0.062894</td>\n",
       "      <td>-0.415885</td>\n",
       "      <td>0.010484</td>\n",
       "    </tr>\n",
       "    <tr>\n",
       "      <th>HOOK_LOAD</th>\n",
       "      <td>0.632564</td>\n",
       "      <td>-0.560171</td>\n",
       "      <td>1.000000</td>\n",
       "      <td>-0.120298</td>\n",
       "      <td>0.160918</td>\n",
       "      <td>0.434517</td>\n",
       "      <td>-0.006209</td>\n",
       "    </tr>\n",
       "    <tr>\n",
       "      <th>DIFFERENTIAL_PRESSURE</th>\n",
       "      <td>0.098948</td>\n",
       "      <td>0.198563</td>\n",
       "      <td>-0.120298</td>\n",
       "      <td>1.000000</td>\n",
       "      <td>0.147807</td>\n",
       "      <td>0.034207</td>\n",
       "      <td>0.053817</td>\n",
       "    </tr>\n",
       "    <tr>\n",
       "      <th>WEIGHT_ON_BIT</th>\n",
       "      <td>-0.013339</td>\n",
       "      <td>0.062894</td>\n",
       "      <td>0.160918</td>\n",
       "      <td>0.147807</td>\n",
       "      <td>1.000000</td>\n",
       "      <td>-0.060888</td>\n",
       "      <td>0.037499</td>\n",
       "    </tr>\n",
       "    <tr>\n",
       "      <th>DRILL_BIT_ID</th>\n",
       "      <td>0.702139</td>\n",
       "      <td>-0.415885</td>\n",
       "      <td>0.434517</td>\n",
       "      <td>0.034207</td>\n",
       "      <td>-0.060888</td>\n",
       "      <td>1.000000</td>\n",
       "      <td>0.233381</td>\n",
       "    </tr>\n",
       "    <tr>\n",
       "      <th>ASTROID_NUM</th>\n",
       "      <td>0.098371</td>\n",
       "      <td>0.010484</td>\n",
       "      <td>-0.006209</td>\n",
       "      <td>0.053817</td>\n",
       "      <td>0.037499</td>\n",
       "      <td>0.233381</td>\n",
       "      <td>1.000000</td>\n",
       "    </tr>\n",
       "  </tbody>\n",
       "</table>\n",
       "</div>"
      ],
      "text/plain": [
       "                       BIT_DEPTH  RATE_OF_PENETRATION  HOOK_LOAD  \\\n",
       "BIT_DEPTH               1.000000            -0.599809   0.632564   \n",
       "RATE_OF_PENETRATION    -0.599809             1.000000  -0.560171   \n",
       "HOOK_LOAD               0.632564            -0.560171   1.000000   \n",
       "DIFFERENTIAL_PRESSURE   0.098948             0.198563  -0.120298   \n",
       "WEIGHT_ON_BIT          -0.013339             0.062894   0.160918   \n",
       "DRILL_BIT_ID            0.702139            -0.415885   0.434517   \n",
       "ASTROID_NUM             0.098371             0.010484  -0.006209   \n",
       "\n",
       "                       DIFFERENTIAL_PRESSURE  WEIGHT_ON_BIT  DRILL_BIT_ID  \\\n",
       "BIT_DEPTH                           0.098948      -0.013339      0.702139   \n",
       "RATE_OF_PENETRATION                 0.198563       0.062894     -0.415885   \n",
       "HOOK_LOAD                          -0.120298       0.160918      0.434517   \n",
       "DIFFERENTIAL_PRESSURE               1.000000       0.147807      0.034207   \n",
       "WEIGHT_ON_BIT                       0.147807       1.000000     -0.060888   \n",
       "DRILL_BIT_ID                        0.034207      -0.060888      1.000000   \n",
       "ASTROID_NUM                         0.053817       0.037499      0.233381   \n",
       "\n",
       "                       ASTROID_NUM  \n",
       "BIT_DEPTH                 0.098371  \n",
       "RATE_OF_PENETRATION       0.010484  \n",
       "HOOK_LOAD                -0.006209  \n",
       "DIFFERENTIAL_PRESSURE     0.053817  \n",
       "WEIGHT_ON_BIT             0.037499  \n",
       "DRILL_BIT_ID              0.233381  \n",
       "ASTROID_NUM               1.000000  "
      ]
     },
     "execution_count": 54,
     "metadata": {},
     "output_type": "execute_result"
    }
   ],
   "source": [
    "all_astroid_data.corr()"
   ]
  },
  {
   "cell_type": "markdown",
   "metadata": {},
   "source": [
    "# Data Cleaning"
   ]
  },
  {
   "cell_type": "code",
   "execution_count": 18,
   "metadata": {},
   "outputs": [
    {
     "name": "stdout",
     "output_type": "stream",
     "text": [
      "BIT_DEPTH                 751\n",
      "RATE_OF_PENETRATION       758\n",
      "HOOK_LOAD                1407\n",
      "DIFFERENTIAL_PRESSURE     927\n",
      "WEIGHT_ON_BIT             778\n",
      "DRILL_BIT_ID                0\n",
      "DRILL_BIT_NAME              0\n",
      "ASTROID_NUM                 0\n",
      "dtype: int64\n"
     ]
    }
   ],
   "source": [
    "print(all_astroid_data.isna().sum())"
   ]
  },
  {
   "cell_type": "markdown",
   "metadata": {},
   "source": [
    "## Remove Nulls "
   ]
  },
  {
   "cell_type": "code",
   "execution_count": 19,
   "metadata": {},
   "outputs": [
    {
     "name": "stdout",
     "output_type": "stream",
     "text": [
      "           BIT_DEPTH      HOOK_LOAD  DIFFERENTIAL_PRESSURE  WEIGHT_ON_BIT\n",
      "count  300237.000000  300237.000000          300237.000000  300237.000000\n",
      "mean     9699.290564     149.322833             694.743031      40.637291\n",
      "std      5496.289603      43.749013             317.443020      14.558932\n",
      "min      -999.250000    -999.250000           -5399.000000    -999.250000\n",
      "25%      5050.610000     120.800000             525.000000      34.750000\n",
      "50%      9354.520000     157.000000             713.000000      42.100000\n",
      "75%     13992.540000     176.230000             877.000000      48.880000\n",
      "max     23160.560000     412.900000            2042.000000     262.670000\n",
      "count     300237\n",
      "unique         4\n",
      "top       Apollo\n",
      "freq       76176\n",
      "Name: DRILL_BIT_NAME, dtype: object\n",
      "['ChallengDriller' 'Apollo' 'Buzz Drilldrin' 'AstroBit']\n"
     ]
    }
   ],
   "source": [
    "all_astroid_data_cleaned = all_astroid_data.dropna(inplace=False)\n",
    "print(all_astroid_data_cleaned[['BIT_DEPTH', 'HOOK_LOAD', 'DIFFERENTIAL_PRESSURE', 'WEIGHT_ON_BIT']].describe())\n",
    "print(all_astroid_data_cleaned['DRILL_BIT_NAME'].describe())\n",
    "print(all_astroid_data_cleaned['DRILL_BIT_NAME'].unique())"
   ]
  },
  {
   "cell_type": "code",
   "execution_count": 20,
   "metadata": {},
   "outputs": [
    {
     "name": "stdout",
     "output_type": "stream",
     "text": [
      "CHALLENGER DRILL BIT\n",
      "          BIT_DEPTH  RATE_OF_PENETRATION     HOOK_LOAD  DIFFERENTIAL_PRESSURE  \\\n",
      "count  71833.000000         71833.000000  71833.000000           71833.000000   \n",
      "mean   11993.587230           199.047510    155.943388             750.700360   \n",
      "std     4895.626363           142.064216     35.617661             333.458103   \n",
      "min     -999.250000          -999.250000   -999.250000           -5399.000000   \n",
      "25%     8681.070000           116.000000    141.800000             573.000000   \n",
      "50%    12640.770000           167.000000    159.200000             761.000000   \n",
      "75%    15845.000000           235.700000    172.200000             947.000000   \n",
      "max    20724.530000          3404.600000    329.900000            2042.000000   \n",
      "\n",
      "       WEIGHT_ON_BIT  DRILL_BIT_ID   ASTROID_NUM  \n",
      "count   71833.000000  71833.000000  71833.000000  \n",
      "mean       38.865344      2.397603     11.017026  \n",
      "std        11.456535      1.008947      5.751613  \n",
      "min      -999.250000      1.000000      1.000000  \n",
      "25%        32.830000      2.000000      5.000000  \n",
      "50%        38.550000      2.000000     12.000000  \n",
      "75%        45.530000      3.000000     15.000000  \n",
      "max       171.400000      5.000000     20.000000  \n",
      "APOLLO DRILL BIT\n",
      "          BIT_DEPTH  RATE_OF_PENETRATION     HOOK_LOAD  DIFFERENTIAL_PRESSURE  \\\n",
      "count  76176.000000         76176.000000  76176.000000           76176.000000   \n",
      "mean    8493.654334           272.687476    148.659902             656.118040   \n",
      "std     4935.040159           206.196613     42.941211             297.244752   \n",
      "min       97.770000             0.000000      0.000000           -4951.000000   \n",
      "25%     4705.047500           125.100000    119.000000             485.000000   \n",
      "50%     7807.020000           205.875000    154.600000             682.000000   \n",
      "75%    12209.015000           397.500000    177.300000             841.000000   \n",
      "max    20974.520000          3488.900000    313.200000            1708.000000   \n",
      "\n",
      "       WEIGHT_ON_BIT  DRILL_BIT_ID   ASTROID_NUM  \n",
      "count   76176.000000  76176.000000  76176.000000  \n",
      "mean       40.651971      2.022435     11.563301  \n",
      "std        11.121175      0.973914      6.158198  \n",
      "min       -20.100000      1.000000      2.000000  \n",
      "25%        34.770000      1.000000      6.000000  \n",
      "50%        42.420000      2.000000     13.000000  \n",
      "75%        48.800000      3.000000     17.000000  \n",
      "max       262.670000      4.000000     20.000000  \n",
      "BUZZ DRILL BIT\n",
      "          BIT_DEPTH  RATE_OF_PENETRATION     HOOK_LOAD  DIFFERENTIAL_PRESSURE  \\\n",
      "count  76165.000000         76165.000000  76165.000000           76165.000000   \n",
      "mean    8781.378365           279.340285    148.019615             701.464492   \n",
      "std     5319.094549           204.189316     47.906008             301.722540   \n",
      "min     -999.250000          -999.250000   -999.250000           -3670.000000   \n",
      "25%     4146.270000           129.800000    116.040000             523.940000   \n",
      "50%     8108.530000           217.700000    149.200000             715.810000   \n",
      "75%    12886.500000           375.800000    181.300000             882.000000   \n",
      "max    22583.020000          3108.000000    412.900000            1649.370000   \n",
      "\n",
      "       WEIGHT_ON_BIT  DRILL_BIT_ID   ASTROID_NUM  \n",
      "count   76165.000000  76165.000000  76165.000000  \n",
      "mean       40.820467      2.181461     11.481639  \n",
      "std        18.873312      1.659421      5.298348  \n",
      "min      -999.250000      1.000000      1.000000  \n",
      "25%        35.640000      1.000000      8.000000  \n",
      "50%        41.880000      1.000000     11.000000  \n",
      "75%        49.300000      3.000000     16.000000  \n",
      "max       157.900000      7.000000     20.000000  \n",
      "ASTRO DRILL BIT\n",
      "          BIT_DEPTH  RATE_OF_PENETRATION     HOOK_LOAD  DIFFERENTIAL_PRESSURE  \\\n",
      "count  76063.000000         76063.000000  76063.000000           76063.000000   \n",
      "mean    9659.154304           284.643429    145.039342             673.849490   \n",
      "std     6051.065199           226.650241     46.370768             328.903015   \n",
      "min     -999.250000          -999.250000   -999.250000           -4969.000000   \n",
      "25%     4464.725000           117.100000    102.600000             528.000000   \n",
      "50%     8871.020000           203.200000    159.400000             700.000000   \n",
      "75%    14461.810000           401.480000    176.100000             850.000000   \n",
      "max    23160.560000          2831.900000    367.000000            1964.000000   \n",
      "\n",
      "       WEIGHT_ON_BIT  DRILL_BIT_ID   ASTROID_NUM  \n",
      "count   76063.000000  76063.000000  76063.000000  \n",
      "mean       42.112573      2.055980     10.303959  \n",
      "std        15.066432      1.219854      6.112565  \n",
      "min      -999.250000      1.000000      1.000000  \n",
      "25%        35.930000      1.000000      5.000000  \n",
      "50%        45.000000      2.000000     10.000000  \n",
      "75%        50.450000      3.000000     15.000000  \n",
      "max       227.400000      4.000000     20.000000  \n"
     ]
    }
   ],
   "source": [
    "challenger_data_cleaned = all_astroid_data_cleaned[all_astroid_data_cleaned['DRILL_BIT_NAME']=='ChallengDriller']\n",
    "apollo_data_cleaned = all_astroid_data_cleaned[all_astroid_data_cleaned['DRILL_BIT_NAME']=='Apollo']\n",
    "buzz_data_cleaned = all_astroid_data_cleaned[all_astroid_data_cleaned['DRILL_BIT_NAME']=='Buzz Drilldrin']\n",
    "astro_data_cleaned = all_astroid_data_cleaned[all_astroid_data_cleaned['DRILL_BIT_NAME']=='AstroBit']\n",
    "\n",
    "print('CHALLENGER DRILL BIT')\n",
    "# challenger_data_cleaned = challenger_data_cleaned.drop('DRILL_BIT_NAME', inplace=True)\n",
    "print(challenger_data_cleaned.describe())\n",
    "print('APOLLO DRILL BIT')\n",
    "# apollo_data_cleaned = apollo_data_cleaned.drop('DRILL_BIT_NAME', inplace=True)\n",
    "print(apollo_data_cleaned.describe())\n",
    "print('BUZZ DRILL BIT')\n",
    "# buzz_data_cleaned = buzz_data_cleaned.drop('DRILL_BIT_NAME', inplace=True)\n",
    "print(buzz_data_cleaned.describe())\n",
    "print('ASTRO DRILL BIT')\n",
    "# astro_data_cleaned = astro_data_cleaned.drop('DRILL_BIT_NAME', inplace=True)\n",
    "print(astro_data_cleaned.describe())"
   ]
  },
  {
   "cell_type": "markdown",
   "metadata": {},
   "source": [
    "## Remove Outliers"
   ]
  },
  {
   "cell_type": "code",
   "execution_count": 21,
   "metadata": {},
   "outputs": [
    {
     "name": "stdout",
     "output_type": "stream",
     "text": [
      "BIT_DEPTH                float64\n",
      "RATE_OF_PENETRATION      float64\n",
      "HOOK_LOAD                float64\n",
      "DIFFERENTIAL_PRESSURE    float64\n",
      "WEIGHT_ON_BIT            float64\n",
      "DRILL_BIT_ID               int64\n",
      "DRILL_BIT_NAME            object\n",
      "ASTROID_NUM                int64\n",
      "dtype: object\n"
     ]
    }
   ],
   "source": [
    "print(challenger_data_cleaned.dtypes)"
   ]
  },
  {
   "cell_type": "code",
   "execution_count": 22,
   "metadata": {},
   "outputs": [
    {
     "name": "stdout",
     "output_type": "stream",
     "text": [
      "SIZE BEFORE: (71833, 8)\n",
      "SIZE AFTER OUTLIERS REMOVED: (69109, 8)\n",
      "SIZE BEFORE: (76176, 8)\n",
      "SIZE AFTER OUTLIERS REMOVED: (74955, 8)\n",
      "SIZE BEFORE: (76165, 8)\n",
      "SIZE AFTER OUTLIERS REMOVED: (75515, 8)\n",
      "SIZE BEFORE: (76063, 8)\n",
      "SIZE AFTER OUTLIERS REMOVED: (74985, 8)\n"
     ]
    }
   ],
   "source": [
    "def find_outliers(col):\n",
    "    z = np.abs(stats.zscore(col))\n",
    "    idx_outliers = np.where(z > 3, True, False)\n",
    "    return pd.Series(idx_outliers, index=col.index)\n",
    "\n",
    "def remove_outliers(df):\n",
    "    df_outliers = pd.DataFrame()\n",
    "    numeric_cols = ['BIT_DEPTH', 'RATE_OF_PENETRATION', 'HOOK_LOAD', 'DIFFERENTIAL_PRESSURE', 'WEIGHT_ON_BIT']\n",
    "    for col in numeric_cols:\n",
    "        df_outliers[col] = find_outliers(df[col])\n",
    "    \n",
    "    test_outs = df_outliers.apply(lambda x: np.any(x), axis=1)\n",
    "    no_outliers_df = df.loc[test_outs==False]\n",
    "    print('SIZE BEFORE:', df.shape)\n",
    "    print('SIZE AFTER OUTLIERS REMOVED:', no_outliers_df.shape)\n",
    "    return no_outliers_df\n",
    "    \n",
    "\n",
    "challenger_data_cleaned = remove_outliers(challenger_data_cleaned)\n",
    "apollo_data_cleaned = remove_outliers(apollo_data_cleaned)\n",
    "buzz_data_cleaned = remove_outliers(buzz_data_cleaned)\n",
    "astro_data_cleaned = remove_outliers(astro_data_cleaned)\n"
   ]
  },
  {
   "cell_type": "code",
   "execution_count": 23,
   "metadata": {
    "scrolled": true
   },
   "outputs": [
    {
     "name": "stdout",
     "output_type": "stream",
     "text": [
      "TRAIN: 14 TEST: 4\n",
      "TRAIN: 16 TEST: 4\n",
      "TRAIN: 16 TEST: 5\n",
      "TRAIN: 12 TEST: 4\n"
     ]
    }
   ],
   "source": [
    "# split train and test for each bit\n",
    "# astro_id is drill bit id and astroid number\n",
    "def create_astro_id(df):\n",
    "    df['ASTRO_ID'] = df['DRILL_BIT_ID'].astype(str) + '-' + df['ASTROID_NUM'].astype(str)\n",
    "#     print(df['ASTRO_ID'].unique())\n",
    "    unique_ids = df['ASTRO_ID'].unique()\n",
    "    unique_trials = len(df['ASTRO_ID'].unique())\n",
    "#     print('Total Number of Trials:', unique_trials)\n",
    "#     print(df.head())\n",
    "    return df, unique_trials, unique_ids\n",
    "\n",
    "def train_test_split(df, unique_idxs, unique_trials, test_split):\n",
    "    num_test = math.ceil(unique_trials * test_split)\n",
    "    num_train = unique_trials - num_test\n",
    "    print('TRAIN:', num_train, 'TEST:', num_test)\n",
    "    df = df.set_index(['ASTRO_ID'])\n",
    "\n",
    "    x_train = df.loc[unique_idxs[:num_train-1], ['HOOK_LOAD', 'DIFFERENTIAL_PRESSURE', 'WEIGHT_ON_BIT', 'BIT_DEPTH']]\n",
    "    x_test = df.loc[unique_idxs[num_train:], ['HOOK_LOAD', 'DIFFERENTIAL_PRESSURE', 'WEIGHT_ON_BIT', 'BIT_DEPTH']]\n",
    "    y_train = df.loc[unique_idxs[:num_train-1], ['RATE_OF_PENETRATION']]\n",
    "    y_test = df.loc[unique_idxs[num_train:], ['RATE_OF_PENETRATION']]\n",
    "    return x_train, x_test, y_train, y_test\n",
    "\n",
    "\n",
    "challenger_data_cleaned, unique_challenger_trials, challenger_idxs = create_astro_id(challenger_data_cleaned)\n",
    "apollo_data_cleaned, unique_apollo_trials, apollo_idxs = create_astro_id(apollo_data_cleaned)\n",
    "buzz_data_cleaned, unique_buzz_trials, buzz_idxs = create_astro_id(buzz_data_cleaned)\n",
    "astro_data_cleaned, unique_astro_trials, astro_idxs = create_astro_id(astro_data_cleaned)\n",
    "\n",
    "cx_train, cx_test, cy_train, cy_test = train_test_split(challenger_data_cleaned, challenger_idxs, unique_challenger_trials, 0.20)\n",
    "ax_train, ax_test, ay_train, ay_test = train_test_split(apollo_data_cleaned, apollo_idxs, unique_apollo_trials, 0.20)\n",
    "bx_train, bx_test, by_train, by_test = train_test_split(buzz_data_cleaned, buzz_idxs, unique_buzz_trials, 0.20)\n",
    "asx_train, asx_test, asy_train, asy_test = train_test_split(astro_data_cleaned, astro_idxs, unique_astro_trials, 0.20)\n",
    "\n",
    "# OUTPUT TEST AND TRAIN TO CSV\n",
    "# asx_train.to_csv('asx_train.csv')\n",
    "# asy_train.to_csv('asy_train.csv')\n",
    "# asx_test.to_csv('asx_test.csv')\n",
    "# asy_test.to_csv('asy_test.csv')\n"
   ]
  },
  {
   "cell_type": "code",
   "execution_count": 24,
   "metadata": {},
   "outputs": [],
   "source": [
    "def random_forest_regress(x_train, y_train, x_test, y_test, n_regressors=20):\n",
    "    rfr = RandomForestRegressor(n_estimators = n_regressors)\n",
    "    rfr.fit(x_train, y_train)\n",
    "\n",
    "    rfr_predictions = rfr.predict(x_test)\n",
    "    rfr_r_squared = rfr.score(x_test, y_test)\n",
    "    print(\"R^2 coefficient for Random Forest Regressor is:\", rfr_r_squared)\n",
    "    results_df = pd.DataFrame(np.column_stack([rfr_predictions, y_test]), columns=['predicted', 'ground_truth'])\n",
    "    return rfr, results_df"
   ]
  },
  {
   "cell_type": "code",
   "execution_count": 25,
   "metadata": {},
   "outputs": [
    {
     "name": "stderr",
     "output_type": "stream",
     "text": [
      "<ipython-input-24-0f3ec29b4caa>:3: DataConversionWarning: A column-vector y was passed when a 1d array was expected. Please change the shape of y to (n_samples,), for example using ravel().\n",
      "  rfr.fit(x_train, y_train)\n"
     ]
    },
    {
     "name": "stdout",
     "output_type": "stream",
     "text": [
      "R^2 coefficient for Random Forest Regressor is: -0.7630454270981564\n"
     ]
    },
    {
     "name": "stderr",
     "output_type": "stream",
     "text": [
      "<ipython-input-24-0f3ec29b4caa>:3: DataConversionWarning: A column-vector y was passed when a 1d array was expected. Please change the shape of y to (n_samples,), for example using ravel().\n",
      "  rfr.fit(x_train, y_train)\n"
     ]
    },
    {
     "name": "stdout",
     "output_type": "stream",
     "text": [
      "R^2 coefficient for Random Forest Regressor is: 0.20795569558335394\n"
     ]
    },
    {
     "name": "stderr",
     "output_type": "stream",
     "text": [
      "<ipython-input-24-0f3ec29b4caa>:3: DataConversionWarning: A column-vector y was passed when a 1d array was expected. Please change the shape of y to (n_samples,), for example using ravel().\n",
      "  rfr.fit(x_train, y_train)\n"
     ]
    },
    {
     "name": "stdout",
     "output_type": "stream",
     "text": [
      "R^2 coefficient for Random Forest Regressor is: -1.2748246936048817\n"
     ]
    },
    {
     "name": "stderr",
     "output_type": "stream",
     "text": [
      "<ipython-input-24-0f3ec29b4caa>:3: DataConversionWarning: A column-vector y was passed when a 1d array was expected. Please change the shape of y to (n_samples,), for example using ravel().\n",
      "  rfr.fit(x_train, y_train)\n"
     ]
    },
    {
     "name": "stdout",
     "output_type": "stream",
     "text": [
      "R^2 coefficient for Random Forest Regressor is: 0.5189171940008238\n"
     ]
    }
   ],
   "source": [
    "c_rfr, results_c = random_forest_regress(cx_train, cy_train, cx_test, cy_test)\n",
    "a_rfr, results_a = random_forest_regress(ax_train, ay_train, ax_test, ay_test)\n",
    "b_rfr, results_b = random_forest_regress(bx_train, by_train, bx_test, by_test)\n",
    "as_rfr, results_as = random_forest_regress(asx_train, asy_train, asx_test, asy_test)"
   ]
  },
  {
   "cell_type": "code",
   "execution_count": 36,
   "metadata": {},
   "outputs": [],
   "source": [
    "def predict_for_all(usr_data):\n",
    "    c_rate = c_rfr.predict(usr_df)[0]\n",
    "    a_rate = a_rfr.predict(usr_df)[0]\n",
    "    b_rate = b_rfr.predict(usr_df)[0]\n",
    "    as_rate = as_rfr.predict(usr_df)[0]\n",
    "    \n",
    "    print('The predicted drill rate for challenger is:', c_rate)\n",
    "    print('The predicted drill rate for apollo is:', a_rate)\n",
    "    print('The predicted drill rate for buzz is:', b_rate)\n",
    "    print('The predicted drill rate for astro is:', as_rate)\n",
    "    return c_rate, a_rate, b_rate, as_rate"
   ]
  },
  {
   "cell_type": "markdown",
   "metadata": {},
   "source": [
    "# User Input to Give Cost"
   ]
  },
  {
   "cell_type": "code",
   "execution_count": 37,
   "metadata": {},
   "outputs": [
    {
     "name": "stdout",
     "output_type": "stream",
     "text": [
      "The predicted drill rate for challenger is: 193.39400000000006\n",
      "The predicted drill rate for apollo is: 181.26000000000002\n",
      "The predicted drill rate for buzz is: 109.619\n",
      "The predicted drill rate for astro is: 204.0475\n"
     ]
    }
   ],
   "source": [
    "usr_hook_load = 182.3\n",
    "usr_diff_pressure = 622\n",
    "usr_weight_on_bit = 29.9\n",
    "usr_bit_depth = 14100.52\n",
    "\n",
    "usr_df = pd.DataFrame([[usr_hook_load, usr_diff_pressure, usr_weight_on_bit, usr_bit_depth]], columns = ['HOOK_LOAD', 'DIFFERENTIAL_PRESSURE', 'WEIGHT_ON_BIT', 'BIT_DEPTH'])\n",
    "\n",
    "c_rate, a_rate, b_rate, as_rate = predict_for_all(usr_df)\n"
   ]
  },
  {
   "cell_type": "code",
   "execution_count": 53,
   "metadata": {},
   "outputs": [
    {
     "name": "stdout",
     "output_type": "stream",
     "text": [
      "For the ChallengDriller:\n",
      " 1.19 hours $ 10000.0 per run\n",
      "For the Apollo:\n",
      " 1.19 hours $ 60371.83 per run\n",
      "For the Buzz Drilldrin:\n",
      " 1.18 hours $ 26150.78 per run\n",
      "For the AstroBit:\n",
      " 1.19 hours $ 18884.79 per run\n"
     ]
    }
   ],
   "source": [
    "def time_function2(rate, depth):\n",
    "    drillTime = rate / depth\n",
    "    #print(drillTime, \" - Total Drill Time is rate/depth. Result is .Point hours (decimal form)\")\n",
    "    bitChangeTime = depth / 100\n",
    "    #print(bitChangeTime, \" - Replacement bit time, which needs to be multiplied ___ x 30s\")\n",
    "    bitChangeTime = bitChangeTime*0.5\n",
    "    #print(bitChangeTime, \" - The new bitChangeTime is now in minutes after multiplying by .5 (half a minute - 30s)\")\n",
    "    bitChangeTime = bitChangeTime/60\n",
    "    #print(bitChangeTime, \" -  This is after bitChange time is changed to . decimal hours form\")\n",
    "    totalDrillTime = drillTime + bitChangeTime\n",
    "    #print(totalDrillTime, \" - Total Drill Time in hours\")\n",
    "\n",
    "    return totalDrillTime\n",
    "\n",
    "hours = time_function2(rate, depth)\n",
    "\n",
    "# def cost_calc():\n",
    "# We need the drill bit name to determine the Cost Per Run, Cost Per Foot and Cost Per Hour\n",
    "# Cost_Calc needs FT AND HOURS IMPORTED FROM DEPTH VARIABLE and then the HOURS time calculated from the previous function\n",
    "# AND it needs to know the TYPE of DRILL\n",
    "# CostPerRun + ( FT * CostPerFoot ) + ( Hours * CostPerHour )\n",
    "def cost_calculation(drillType, FT, TIME):\n",
    "    cost = 0.0\n",
    "    if(drillType == \"Buzz Drilldrin\"):\n",
    "        # Buzz Drilldrin Cost = 5000 Cost Per Run, 1.5 Cost Per Foot, 0 Cost Per Hour\n",
    "        cost = 5000 + (FT * 1.5) + (TIME * 0)\n",
    "\n",
    "    elif(drillType == \"AstroBit\"):\n",
    "        # Astro Bit Cost = 3000 Cost Per Run, 1 Cost Per Foot, 1500 Cost Per Hour\n",
    "        cost = 3000 + (FT * 1) + (TIME * 1500)\n",
    "\n",
    "    elif(drillType == \"Apollo\"):\n",
    "        # Apollo Cost = 1000 Cost Per Run, 4 Cost Per Foot, 2500 Cost Per Hour\n",
    "        cost = 1000 + (FT * 4) + (TIME * 2500)\n",
    "\n",
    "    elif(drillType == \"ChallengDriller\"):\n",
    "        #ChallengDriller = 10000 Cost Per Run, 0 Cost Per Foot, 0 Cost Per Hour\n",
    "        cost = 10000 + (FT * 0) + (TIME * 0)\n",
    "        \n",
    "\n",
    "    return cost\n",
    "\n",
    "\n",
    "c_hours = time_function2(c_rate, usr_bit_depth)\n",
    "a_hours = time_function2(a_rate, usr_bit_depth)\n",
    "b_hours = time_function2(b_rate, usr_bit_depth)\n",
    "as_hours = time_function2(as_rate, usr_bit_depth)\n",
    "\n",
    "\n",
    "c_totalCost = cost_calculation(\"ChallengDriller\", usr_bit_depth, c_hours)\n",
    "a_totalCost = cost_calculation(\"Apollo\", usr_bit_depth, a_hours)\n",
    "b_totalCost = cost_calculation(\"Buzz Drilldrin\", usr_bit_depth, b_hours)\n",
    "as_totalCost = cost_calculation(\"AstroBit\", usr_bit_depth, as_hours)\n",
    "\n",
    "print(\"For the ChallengDriller:\\n\", round(c_hours,2), \"hours\", \"$\", round(c_totalCost,2), \"per run\")\n",
    "print(\"For the Apollo:\\n\", round(a_hours,2), \"hours\", \"$\", round(a_totalCost,2), \"per run\")\n",
    "print(\"For the Buzz Drilldrin:\\n\", round(b_hours,2), \"hours\", \"$\", round(b_totalCost,2), \"per run\")\n",
    "print(\"For the AstroBit:\\n\", round(as_hours,2), \"hours\", \"$\", round(as_totalCost,2), \"per run\")\n",
    "\n"
   ]
  },
  {
   "cell_type": "code",
   "execution_count": null,
   "metadata": {},
   "outputs": [],
   "source": []
  }
 ],
 "metadata": {
  "kernelspec": {
   "display_name": "Python 3",
   "language": "python",
   "name": "python3"
  },
  "language_info": {
   "codemirror_mode": {
    "name": "ipython",
    "version": 3
   },
   "file_extension": ".py",
   "mimetype": "text/x-python",
   "name": "python",
   "nbconvert_exporter": "python",
   "pygments_lexer": "ipython3",
   "version": "3.8.10"
  }
 },
 "nbformat": 4,
 "nbformat_minor": 4
}
